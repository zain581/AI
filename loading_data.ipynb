{
 "cells": [
  {
   "cell_type": "code",
   "execution_count": 37,
   "id": "0c2be8f7",
   "metadata": {},
   "outputs": [],
   "source": [
    "import numpy as np\n",
    "import csv \n",
    "import math"
   ]
  },
  {
   "cell_type": "code",
   "execution_count": 2,
   "id": "9bf75267",
   "metadata": {},
   "outputs": [],
   "source": [
    "filename=\"iris.data\""
   ]
  },
  {
   "cell_type": "code",
   "execution_count": 11,
   "id": "63415558",
   "metadata": {},
   "outputs": [],
   "source": [
    "data=np.genfromtxt(filename,delimiter=',', dtype=float)\n",
    "# for i in data:\n",
    "#     for j in i:\n",
    "#         if j==5:\n",
    "#             print(j)\n",
    "        "
   ]
  },
  {
   "cell_type": "code",
   "execution_count": 14,
   "id": "acb40c28",
   "metadata": {},
   "outputs": [
    {
     "data": {
      "text/plain": [
       "(150, 5)"
      ]
     },
     "execution_count": 14,
     "metadata": {},
     "output_type": "execute_result"
    }
   ],
   "source": [
    "data.shape"
   ]
  },
  {
   "cell_type": "code",
   "execution_count": 18,
   "id": "ef404eeb",
   "metadata": {},
   "outputs": [],
   "source": [
    "a = np.arange(5).reshape(1,5)"
   ]
  },
  {
   "cell_type": "code",
   "execution_count": 19,
   "id": "e922c744",
   "metadata": {},
   "outputs": [
    {
     "data": {
      "text/plain": [
       "array([[0, 1, 2, 3, 4]])"
      ]
     },
     "execution_count": 19,
     "metadata": {},
     "output_type": "execute_result"
    }
   ],
   "source": [
    "a"
   ]
  },
  {
   "cell_type": "code",
   "execution_count": 20,
   "id": "2afff2d6",
   "metadata": {},
   "outputs": [],
   "source": [
    "a+=1"
   ]
  },
  {
   "cell_type": "code",
   "execution_count": 21,
   "id": "c7b037f8",
   "metadata": {},
   "outputs": [
    {
     "data": {
      "text/plain": [
       "array([[1, 2, 3, 4, 5]])"
      ]
     },
     "execution_count": 21,
     "metadata": {},
     "output_type": "execute_result"
    }
   ],
   "source": [
    "a"
   ]
  },
  {
   "cell_type": "code",
   "execution_count": 22,
   "id": "aea277c0",
   "metadata": {},
   "outputs": [],
   "source": [
    "a*=2"
   ]
  },
  {
   "cell_type": "code",
   "execution_count": 23,
   "id": "8876f054",
   "metadata": {},
   "outputs": [
    {
     "data": {
      "text/plain": [
       "array([[ 2,  4,  6,  8, 10]])"
      ]
     },
     "execution_count": 23,
     "metadata": {},
     "output_type": "execute_result"
    }
   ],
   "source": [
    "a"
   ]
  },
  {
   "cell_type": "code",
   "execution_count": 24,
   "id": "60b211d6",
   "metadata": {},
   "outputs": [],
   "source": [
    "a = np.arange(5).reshape(1,5) + 1"
   ]
  },
  {
   "cell_type": "code",
   "execution_count": 25,
   "id": "eb8c0a54",
   "metadata": {},
   "outputs": [],
   "source": [
    "b = np.arange(5).reshape(5,1)+1"
   ]
  },
  {
   "cell_type": "code",
   "execution_count": 26,
   "id": "c932c51d",
   "metadata": {},
   "outputs": [
    {
     "data": {
      "text/plain": [
       "array([[ 1,  2,  3,  4,  5],\n",
       "       [ 2,  4,  6,  8, 10],\n",
       "       [ 3,  6,  9, 12, 15],\n",
       "       [ 4,  8, 12, 16, 20],\n",
       "       [ 5, 10, 15, 20, 25]])"
      ]
     },
     "execution_count": 26,
     "metadata": {},
     "output_type": "execute_result"
    }
   ],
   "source": [
    "a*b"
   ]
  },
  {
   "cell_type": "code",
   "execution_count": 27,
   "id": "db1b553e",
   "metadata": {},
   "outputs": [],
   "source": [
    "#alternative\n",
    "a2 = np.array([1,2,3,4,5] * 5).reshape(5,5)"
   ]
  },
  {
   "cell_type": "code",
   "execution_count": 28,
   "id": "6d2e6885",
   "metadata": {},
   "outputs": [
    {
     "data": {
      "text/plain": [
       "array([[1, 2, 3, 4, 5],\n",
       "       [1, 2, 3, 4, 5],\n",
       "       [1, 2, 3, 4, 5],\n",
       "       [1, 2, 3, 4, 5],\n",
       "       [1, 2, 3, 4, 5]])"
      ]
     },
     "execution_count": 28,
     "metadata": {},
     "output_type": "execute_result"
    }
   ],
   "source": [
    "a2"
   ]
  },
  {
   "cell_type": "code",
   "execution_count": 29,
   "id": "de7b4b2c",
   "metadata": {},
   "outputs": [
    {
     "data": {
      "text/plain": [
       "array([ 5, 10, 15, 20, 25])"
      ]
     },
     "execution_count": 29,
     "metadata": {},
     "output_type": "execute_result"
    }
   ],
   "source": [
    "np.sum(a2,axis=0)"
   ]
  },
  {
   "cell_type": "code",
   "execution_count": 30,
   "id": "20336e0f",
   "metadata": {},
   "outputs": [
    {
     "data": {
      "text/plain": [
       "array([15, 15, 15, 15, 15])"
      ]
     },
     "execution_count": 30,
     "metadata": {},
     "output_type": "execute_result"
    }
   ],
   "source": [
    "np.sum(a2,axis=1)"
   ]
  },
  {
   "cell_type": "code",
   "execution_count": 35,
   "id": "dd34d4ba",
   "metadata": {},
   "outputs": [
    {
     "name": "stdout",
     "output_type": "stream",
     "text": [
      "128 ms ± 58.2 µs per loop (mean ± std. dev. of 7 runs, 10 loops each)\n"
     ]
    }
   ],
   "source": [
    "%%timeit\n",
    "[i+1 for i in range(10**6)]"
   ]
  },
  {
   "cell_type": "code",
   "execution_count": 36,
   "id": "50a10e66",
   "metadata": {},
   "outputs": [
    {
     "name": "stdout",
     "output_type": "stream",
     "text": [
      "2.84 µs ± 31.7 ns per loop (mean ± std. dev. of 7 runs, 100,000 loops each)\n"
     ]
    }
   ],
   "source": [
    "%%timeit\n",
    "np.arange(10**2)+1"
   ]
  },
  {
   "cell_type": "code",
   "execution_count": 38,
   "id": "99f3f698",
   "metadata": {},
   "outputs": [
    {
     "name": "stdout",
     "output_type": "stream",
     "text": [
      "265 ms ± 5.16 ms per loop (mean ± std. dev. of 7 runs, 1 loop each)\n"
     ]
    }
   ],
   "source": [
    "%%timeit \n",
    "x=[math.sqrt(i) for i in range(10**6)]"
   ]
  },
  {
   "cell_type": "code",
   "execution_count": 39,
   "id": "6f334c1e",
   "metadata": {},
   "outputs": [
    {
     "name": "stdout",
     "output_type": "stream",
     "text": [
      "8.28 ms ± 38.3 µs per loop (mean ± std. dev. of 7 runs, 100 loops each)\n"
     ]
    }
   ],
   "source": [
    "%%timeit\n",
    "np.sqrt(np.arange(10**6))"
   ]
  },
  {
   "cell_type": "code",
   "execution_count": 41,
   "id": "312b85e4",
   "metadata": {},
   "outputs": [],
   "source": [
    "M = np.arange(100, dtype=int).reshape(10,10)"
   ]
  },
  {
   "cell_type": "code",
   "execution_count": 52,
   "id": "83f3768d",
   "metadata": {},
   "outputs": [
    {
     "data": {
      "text/plain": [
       "array([[20, 21, 22, 23, 24],\n",
       "       [40, 41, 42, 43, 44]])"
      ]
     },
     "execution_count": 52,
     "metadata": {},
     "output_type": "execute_result"
    }
   ],
   "source": [
    "# [start_index_included:end_index_exclude:steps]\n",
    "M[2:5:2,:5]"
   ]
  },
  {
   "cell_type": "code",
   "execution_count": 53,
   "id": "1f9e082e",
   "metadata": {},
   "outputs": [],
   "source": [
    "row_index = (M[:,0]>=20) & (M[:,0]<=80)"
   ]
  },
  {
   "cell_type": "code",
   "execution_count": 54,
   "id": "e36bc036",
   "metadata": {},
   "outputs": [],
   "source": [
    "col_index = M[0,:]>=5"
   ]
  },
  {
   "cell_type": "code",
   "execution_count": 55,
   "id": "890a74cb",
   "metadata": {},
   "outputs": [
    {
     "data": {
      "text/plain": [
       "array([[25, 26, 27, 28, 29],\n",
       "       [35, 36, 37, 38, 39],\n",
       "       [45, 46, 47, 48, 49],\n",
       "       [55, 56, 57, 58, 59],\n",
       "       [65, 66, 67, 68, 69],\n",
       "       [75, 76, 77, 78, 79],\n",
       "       [85, 86, 87, 88, 89]])"
      ]
     },
     "execution_count": 55,
     "metadata": {},
     "output_type": "execute_result"
    }
   ],
   "source": [
    "M[row_index,:][:,col_index]"
   ]
  },
  {
   "cell_type": "code",
   "execution_count": 64,
   "id": "50986394",
   "metadata": {},
   "outputs": [
    {
     "data": {
      "text/plain": [
       "array([[ 0,  1,  2,  3,  4],\n",
       "       [ 5,  6,  7,  8,  9],\n",
       "       [10, 11, 12, 13, 14],\n",
       "       [15, 16, 17, 18, 19],\n",
       "       [20, 21, 22, 23, 24],\n",
       "       [25, 26, 27, 28, 29],\n",
       "       [30, 31, 32, 33, 34],\n",
       "       [35, 36, 37, 38, 39],\n",
       "       [40, 41, 42, 43, 44],\n",
       "       [45, 46, 47, 48, 49]])"
      ]
     },
     "execution_count": 64,
     "metadata": {},
     "output_type": "execute_result"
    }
   ],
   "source": [
    "dataset = np.arange(50).reshape(10,5)\n",
    "dataset"
   ]
  },
  {
   "cell_type": "code",
   "execution_count": 65,
   "id": "779bea4d",
   "metadata": {},
   "outputs": [
    {
     "data": {
      "text/plain": [
       "array([[0, 1, 2, 3, 4]])"
      ]
     },
     "execution_count": 65,
     "metadata": {},
     "output_type": "execute_result"
    }
   ],
   "source": [
    "single_line = np.arange(1*5).reshape(1,5)\n",
    "single_line"
   ]
  },
  {
   "cell_type": "code",
   "execution_count": 66,
   "id": "0dbec546",
   "metadata": {},
   "outputs": [
    {
     "data": {
      "text/plain": [
       "array([[ 0,  1,  2,  3,  4],\n",
       "       [ 5,  6,  7,  8,  9],\n",
       "       [10, 11, 12, 13, 14]])"
      ]
     },
     "execution_count": 66,
     "metadata": {},
     "output_type": "execute_result"
    }
   ],
   "source": [
    "a_few_lines = np.arange(3*5).reshape(3,5)\n",
    "a_few_lines"
   ]
  },
  {
   "cell_type": "code",
   "execution_count": 67,
   "id": "77160465",
   "metadata": {},
   "outputs": [
    {
     "data": {
      "text/plain": [
       "array([[ 0,  1,  2,  3,  4],\n",
       "       [ 5,  6,  7,  8,  9],\n",
       "       [10, 11, 12, 13, 14],\n",
       "       [15, 16, 17, 18, 19],\n",
       "       [20, 21, 22, 23, 24],\n",
       "       [25, 26, 27, 28, 29],\n",
       "       [30, 31, 32, 33, 34],\n",
       "       [35, 36, 37, 38, 39],\n",
       "       [40, 41, 42, 43, 44],\n",
       "       [45, 46, 47, 48, 49],\n",
       "       [ 0,  1,  2,  3,  4]])"
      ]
     },
     "execution_count": 67,
     "metadata": {},
     "output_type": "execute_result"
    }
   ],
   "source": [
    "np.vstack((dataset,single_line))"
   ]
  },
  {
   "cell_type": "code",
   "execution_count": 70,
   "id": "f65bdb4e",
   "metadata": {},
   "outputs": [
    {
     "data": {
      "text/plain": [
       "array([[1.],\n",
       "       [1.],\n",
       "       [1.],\n",
       "       [1.],\n",
       "       [1.],\n",
       "       [1.],\n",
       "       [1.],\n",
       "       [1.],\n",
       "       [1.],\n",
       "       [1.]])"
      ]
     },
     "execution_count": 70,
     "metadata": {},
     "output_type": "execute_result"
    }
   ],
   "source": [
    "bias = np.ones(10).reshape(10,1)\n",
    "bias"
   ]
  },
  {
   "cell_type": "code",
   "execution_count": 71,
   "id": "957278fe",
   "metadata": {},
   "outputs": [
    {
     "data": {
      "text/plain": [
       "array([[ 0.,  1.,  2.,  3.,  4.,  1.],\n",
       "       [ 5.,  6.,  7.,  8.,  9.,  1.],\n",
       "       [10., 11., 12., 13., 14.,  1.],\n",
       "       [15., 16., 17., 18., 19.,  1.],\n",
       "       [20., 21., 22., 23., 24.,  1.],\n",
       "       [25., 26., 27., 28., 29.,  1.],\n",
       "       [30., 31., 32., 33., 34.,  1.],\n",
       "       [35., 36., 37., 38., 39.,  1.],\n",
       "       [40., 41., 42., 43., 44.,  1.],\n",
       "       [45., 46., 47., 48., 49.,  1.]])"
      ]
     },
     "execution_count": 71,
     "metadata": {},
     "output_type": "execute_result"
    }
   ],
   "source": [
    "np.hstack((dataset,bias))"
   ]
  },
  {
   "cell_type": "code",
   "execution_count": 72,
   "id": "05db1575",
   "metadata": {},
   "outputs": [],
   "source": [
    "bias = np.ones(10)"
   ]
  },
  {
   "cell_type": "code",
   "execution_count": 73,
   "id": "1e0da9fb",
   "metadata": {},
   "outputs": [
    {
     "data": {
      "text/plain": [
       "array([1., 1., 1., 1., 1., 1., 1., 1., 1., 1.])"
      ]
     },
     "execution_count": 73,
     "metadata": {},
     "output_type": "execute_result"
    }
   ],
   "source": [
    "bias"
   ]
  },
  {
   "cell_type": "code",
   "execution_count": 74,
   "id": "fdb6ab57",
   "metadata": {},
   "outputs": [
    {
     "data": {
      "text/plain": [
       "array([[ 0.,  1.,  2.,  3.,  4.,  1.],\n",
       "       [ 5.,  6.,  7.,  8.,  9.,  1.],\n",
       "       [10., 11., 12., 13., 14.,  1.],\n",
       "       [15., 16., 17., 18., 19.,  1.],\n",
       "       [20., 21., 22., 23., 24.,  1.],\n",
       "       [25., 26., 27., 28., 29.,  1.],\n",
       "       [30., 31., 32., 33., 34.,  1.],\n",
       "       [35., 36., 37., 38., 39.,  1.],\n",
       "       [40., 41., 42., 43., 44.,  1.],\n",
       "       [45., 46., 47., 48., 49.,  1.]])"
      ]
     },
     "execution_count": 74,
     "metadata": {},
     "output_type": "execute_result"
    }
   ],
   "source": [
    "np.column_stack((dataset,bias))"
   ]
  },
  {
   "cell_type": "code",
   "execution_count": 77,
   "id": "9ff5352e",
   "metadata": {},
   "outputs": [
    {
     "data": {
      "text/plain": [
       "array([[[ 0,  5, 10, 15, 20, 25, 30, 35, 40, 45],\n",
       "        [ 1,  6, 11, 16, 21, 26, 31, 36, 41, 46],\n",
       "        [ 2,  7, 12, 17, 22, 27, 32, 37, 42, 47],\n",
       "        [ 3,  8, 13, 18, 23, 28, 33, 38, 43, 48],\n",
       "        [ 4,  9, 14, 19, 24, 29, 34, 39, 44, 49]]])"
      ]
     },
     "execution_count": 77,
     "metadata": {},
     "output_type": "execute_result"
    }
   ],
   "source": [
    "np.dstack((dataset*1))\n",
    "#operates on the third axis"
   ]
  },
  {
   "cell_type": "code",
   "execution_count": null,
   "id": "a0e605f8",
   "metadata": {},
   "outputs": [],
   "source": []
  }
 ],
 "metadata": {
  "kernelspec": {
   "display_name": "Python 3 (ipykernel)",
   "language": "python",
   "name": "python3"
  },
  "language_info": {
   "codemirror_mode": {
    "name": "ipython",
    "version": 3
   },
   "file_extension": ".py",
   "mimetype": "text/x-python",
   "name": "python",
   "nbconvert_exporter": "python",
   "pygments_lexer": "ipython3",
   "version": "3.9.12"
  }
 },
 "nbformat": 4,
 "nbformat_minor": 5
}
