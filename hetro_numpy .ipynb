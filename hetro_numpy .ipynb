{
 "cells": [
  {
   "cell_type": "code",
   "execution_count": 1,
   "id": "68604d05",
   "metadata": {},
   "outputs": [],
   "source": [
    "import numpy as np"
   ]
  },
  {
   "cell_type": "code",
   "execution_count": 62,
   "id": "3376d43a",
   "metadata": {},
   "outputs": [
    {
     "data": {
      "text/plain": [
       "[1, 2, 3, 1.0, 2.0, 3.0, 'a', 'b', 'c']"
      ]
     },
     "execution_count": 62,
     "metadata": {},
     "output_type": "execute_result"
    }
   ],
   "source": [
    "#store hetro vlaues in np array\n",
    "complex_list = [1,2,3] + [1.,2.,3.] + ['a','b','c']\n",
    "complex_list"
   ]
  },
  {
   "cell_type": "code",
   "execution_count": 63,
   "id": "cbd25bee",
   "metadata": {},
   "outputs": [],
   "source": [
    "Array_2 = np.array(complex_list[:3])"
   ]
  },
  {
   "cell_type": "code",
   "execution_count": 64,
   "id": "0826a496",
   "metadata": {},
   "outputs": [
    {
     "data": {
      "text/plain": [
       "array([1, 2, 3])"
      ]
     },
     "execution_count": 64,
     "metadata": {},
     "output_type": "execute_result"
    }
   ],
   "source": [
    "Array_2"
   ]
  },
  {
   "cell_type": "code",
   "execution_count": 65,
   "id": "b1d392f2",
   "metadata": {},
   "outputs": [
    {
     "name": "stdout",
     "output_type": "stream",
     "text": [
      "complex_list[:3] int64\n"
     ]
    }
   ],
   "source": [
    "print ('complex_list[:3]', Array_2.dtype)"
   ]
  },
  {
   "cell_type": "code",
   "execution_count": 66,
   "id": "7bbb9cbe",
   "metadata": {},
   "outputs": [
    {
     "data": {
      "text/plain": [
       "array([1., 2., 3., 1., 2., 3.])"
      ]
     },
     "execution_count": 66,
     "metadata": {},
     "output_type": "execute_result"
    }
   ],
   "source": [
    "Array_2 = np.array(complex_list[:6])\n",
    "Array_2"
   ]
  },
  {
   "cell_type": "code",
   "execution_count": 67,
   "id": "7d73add3",
   "metadata": {},
   "outputs": [
    {
     "data": {
      "text/plain": [
       "array(['1', '2', '3', '1.0', '2.0', '3.0', 'a', 'b', 'c'], dtype='<U32')"
      ]
     },
     "execution_count": 67,
     "metadata": {},
     "output_type": "execute_result"
    }
   ],
   "source": [
    "array_1=np.array(complex_list)\n",
    "array_1"
   ]
  },
  {
   "cell_type": "code",
   "execution_count": 68,
   "id": "57cd554a",
   "metadata": {},
   "outputs": [],
   "source": [
    "# for i in array_1:\n",
    "#     print(i.dtype())"
   ]
  },
  {
   "cell_type": "code",
   "execution_count": 69,
   "id": "9b972d95",
   "metadata": {},
   "outputs": [
    {
     "name": "stdout",
     "output_type": "stream",
     "text": [
      "No\n",
      "No\n",
      "No\n",
      "No\n",
      "No\n",
      "No\n",
      "No\n",
      "No\n",
      "No\n"
     ]
    }
   ],
   "source": [
    "for i in range(0,len(array_1)):\n",
    "    if isinstance(array_1[i],np.number):\n",
    "        print(\"yes\")\n",
    "    else:\n",
    "        print(\"No\")\n"
   ]
  },
  {
   "cell_type": "code",
   "execution_count": 70,
   "id": "fd2e2141",
   "metadata": {},
   "outputs": [],
   "source": [
    "a_list = [[[1,2],[3,4],[5,6]],\n",
    "[[7,8],[9,10],[11,12]]]"
   ]
  },
  {
   "cell_type": "code",
   "execution_count": 71,
   "id": "d3be2d77",
   "metadata": {},
   "outputs": [
    {
     "data": {
      "text/plain": [
       "array([[[ 1,  2],\n",
       "        [ 3,  4],\n",
       "        [ 5,  6]],\n",
       "\n",
       "       [[ 7,  8],\n",
       "        [ 9, 10],\n",
       "        [11, 12]]])"
      ]
     },
     "execution_count": 71,
     "metadata": {},
     "output_type": "execute_result"
    }
   ],
   "source": [
    "array_from_list=np.array(a_list)\n",
    "array_from_list"
   ]
  },
  {
   "cell_type": "code",
   "execution_count": 72,
   "id": "8f0c63a0",
   "metadata": {},
   "outputs": [
    {
     "data": {
      "text/plain": [
       "array(dict_items([(1, 2), (3, 4), (5, 6)]), dtype=object)"
      ]
     },
     "execution_count": 72,
     "metadata": {},
     "output_type": "execute_result"
    }
   ],
   "source": [
    "array_from_dic=np.array({1:2,3:4,5:6}.items())\n",
    "array_from_dic"
   ]
  },
  {
   "cell_type": "code",
   "execution_count": 73,
   "id": "7cfbbabe",
   "metadata": {},
   "outputs": [
    {
     "data": {
      "text/plain": [
       "array([[0., 0., 0.],\n",
       "       [0., 0., 0.],\n",
       "       [0., 0., 0.]])"
      ]
     },
     "execution_count": 73,
     "metadata": {},
     "output_type": "execute_result"
    }
   ],
   "source": [
    "np.zeros((3,3))"
   ]
  },
  {
   "cell_type": "code",
   "execution_count": 74,
   "id": "5c16ec3f",
   "metadata": {},
   "outputs": [
    {
     "data": {
      "text/plain": [
       "array([[1., 1., 1., 1.],\n",
       "       [1., 1., 1., 1.],\n",
       "       [1., 1., 1., 1.],\n",
       "       [1., 1., 1., 1.]])"
      ]
     },
     "execution_count": 74,
     "metadata": {},
     "output_type": "execute_result"
    }
   ],
   "source": [
    "np.ones((4,4))"
   ]
  },
  {
   "cell_type": "code",
   "execution_count": 75,
   "id": "72d1e29b",
   "metadata": {},
   "outputs": [
    {
     "data": {
      "text/plain": [
       "array([[1., 0., 0.],\n",
       "       [0., 1., 0.],\n",
       "       [0., 0., 1.]])"
      ]
     },
     "execution_count": 75,
     "metadata": {},
     "output_type": "execute_result"
    }
   ],
   "source": [
    "np.eye(3)"
   ]
  },
  {
   "cell_type": "code",
   "execution_count": 37,
   "id": "454d3fd0",
   "metadata": {},
   "outputs": [
    {
     "data": {
      "text/plain": [
       "array([0.        , 0.11111111, 0.22222222, 0.33333333, 0.44444444,\n",
       "       0.55555556, 0.66666667, 0.77777778, 0.88888889, 1.        ])"
      ]
     },
     "execution_count": 37,
     "metadata": {},
     "output_type": "execute_result"
    }
   ],
   "source": [
    "#\n",
    "fractions = np.linspace(start=0, stop=1, num=10)\n",
    "fractions"
   ]
  },
  {
   "cell_type": "code",
   "execution_count": 43,
   "id": "9a7ad1a1",
   "metadata": {},
   "outputs": [
    {
     "data": {
      "text/plain": [
       "array([ 1.        ,  1.29154967,  1.66810054,  2.15443469,  2.7825594 ,\n",
       "        3.59381366,  4.64158883,  5.9948425 ,  7.74263683, 10.        ])"
      ]
     },
     "execution_count": 43,
     "metadata": {},
     "output_type": "execute_result"
    }
   ],
   "source": [
    "growth = np.logspace(start=0, stop=1, num=10, base=10.0)\n",
    "growth"
   ]
  },
  {
   "cell_type": "code",
   "execution_count": 49,
   "id": "aa62f928",
   "metadata": {},
   "outputs": [
    {
     "name": "stdout",
     "output_type": "stream",
     "text": [
      "CPU times: user 191 µs, sys: 30 µs, total: 221 µs\n",
      "Wall time: 188 µs\n"
     ]
    },
    {
     "data": {
      "text/plain": [
       "array([ 1.14683591, -0.08558441,  0.61981196,  0.30356141, -0.31547921,\n",
       "        0.78151234, -0.5137851 , -0.03536004,  0.1520358 , -0.56258397,\n",
       "        0.41472411,  1.02109718,  0.67797068,  1.03289391,  0.76216943,\n",
       "        1.34565318, -1.32624098, -1.71212844,  0.23529641,  0.67412234,\n",
       "        0.29419393, -1.46015262, -0.66893195,  0.75867351, -1.80089712,\n",
       "        0.8311265 ,  1.97702443,  2.09040987,  0.64836928, -0.83092037,\n",
       "        0.44299536,  0.24880507,  0.51647657, -0.75755032, -1.83258526,\n",
       "       -0.78936089,  0.79940013, -1.04288365, -2.28535875,  0.28452918,\n",
       "       -0.05511239, -0.72070247, -0.98835639,  0.39783426,  0.71096776,\n",
       "       -0.92621978,  1.07612237, -0.84292519,  1.41842011, -0.86180737,\n",
       "       -0.42780251, -0.48492682, -1.27890702,  1.56346864, -0.46231539,\n",
       "       -0.15223456,  0.92391053,  1.32526893, -0.74327687,  0.77758138,\n",
       "       -0.04434513,  1.05149863,  1.28105312, -1.57774254,  0.68217223,\n",
       "       -0.59434216, -1.78833397, -1.85284037, -0.72199839, -0.43676358,\n",
       "        2.07072385, -1.86697907, -0.30862614, -1.81691872,  0.56958529,\n",
       "        1.97433523,  1.4180637 , -0.66117913,  1.00839131,  0.11390754,\n",
       "       -0.4462584 ,  0.43872952,  0.38323302,  0.10283855,  1.21076806,\n",
       "        1.42974382,  0.09595474,  1.94278092,  1.26769009,  0.78132163,\n",
       "       -0.23342626,  0.59935808,  0.76499322, -0.32718801,  1.13044794,\n",
       "       -0.96534554, -0.95677774,  0.43964559, -2.92620887,  0.41226002])"
      ]
     },
     "execution_count": 49,
     "metadata": {},
     "output_type": "execute_result"
    }
   ],
   "source": [
    "%%time\n",
    "std_gaussian = np.random.normal(0,1,100)\n",
    "std_gaussian"
   ]
  },
  {
   "cell_type": "code",
   "execution_count": 57,
   "id": "bdbbb169",
   "metadata": {},
   "outputs": [
    {
     "data": {
      "text/plain": [
       "array([[-0.55349705, -0.31132534,  0.83497677],\n",
       "       [ 0.60265531,  1.24831845,  2.25974004],\n",
       "       [-0.53952187,  0.43927782,  5.99110765]])"
      ]
     },
     "execution_count": 57,
     "metadata": {},
     "output_type": "execute_result"
    }
   ],
   "source": [
    "gaussian = np.random.normal(loc=1.0, scale= 3.0, size=(3,3))\n",
    "gaussian\n",
    "# The loc parameter stands for the mean and the scale is actually the standard deviation."
   ]
  },
  {
   "cell_type": "code",
   "execution_count": 58,
   "id": "c3e8fbb2",
   "metadata": {},
   "outputs": [
    {
     "data": {
      "text/plain": [
       "array([[[-1.84184789, -0.35755251,  0.5106801 ],\n",
       "        [-0.68125655, -0.20971616,  1.16532659],\n",
       "        [ 0.27733429,  2.04861819, -0.91243059]],\n",
       "\n",
       "       [[-0.43574953,  0.51386322,  1.02719552],\n",
       "        [ 1.09382583, -0.70587885,  0.87048534],\n",
       "        [-1.23572726,  1.28049172, -1.08891505]],\n",
       "\n",
       "       [[-0.18665716, -0.97335821,  0.30812153],\n",
       "        [-1.58827622, -0.62609445, -0.66933973],\n",
       "        [-0.19392221, -1.24139857, -0.22162331]]])"
      ]
     },
     "execution_count": 58,
     "metadata": {},
     "output_type": "execute_result"
    }
   ],
   "source": [
    "std_gaussian_1 = np.random.normal(size=(3,3,3))\n",
    "std_gaussian_1"
   ]
  },
  {
   "cell_type": "code",
   "execution_count": 59,
   "id": "48b568e5",
   "metadata": {},
   "outputs": [
    {
     "data": {
      "text/plain": [
       "array([10.        , 10.11111111, 10.22222222, 10.33333333, 10.44444444,\n",
       "       10.55555556, 10.66666667, 10.77777778, 10.88888889, 11.        ])"
      ]
     },
     "execution_count": 59,
     "metadata": {},
     "output_type": "execute_result"
    }
   ],
   "source": [
    "# test_x=np.linspace(1,1,num=5)\n",
    "# test_x\n",
    "np.linspace(10,11,num=10)"
   ]
  },
  {
   "cell_type": "code",
   "execution_count": 60,
   "id": "2e035900",
   "metadata": {},
   "outputs": [],
   "source": [
    "rand = np.random.uniform(low=0.0, high=1.0, size=(3,3))"
   ]
  },
  {
   "cell_type": "code",
   "execution_count": 61,
   "id": "e5686cc7",
   "metadata": {},
   "outputs": [
    {
     "data": {
      "text/plain": [
       "array([[0.55016712, 0.46000035, 0.27866451],\n",
       "       [0.82873577, 0.45342581, 0.10514227],\n",
       "       [0.47361999, 0.69693983, 0.7839599 ]])"
      ]
     },
     "execution_count": 61,
     "metadata": {},
     "output_type": "execute_result"
    }
   ],
   "source": [
    "rand"
   ]
  },
  {
   "cell_type": "code",
   "execution_count": null,
   "id": "e11f6e64",
   "metadata": {},
   "outputs": [],
   "source": []
  }
 ],
 "metadata": {
  "kernelspec": {
   "display_name": "Python 3 (ipykernel)",
   "language": "python",
   "name": "python3"
  },
  "language_info": {
   "codemirror_mode": {
    "name": "ipython",
    "version": 3
   },
   "file_extension": ".py",
   "mimetype": "text/x-python",
   "name": "python",
   "nbconvert_exporter": "python",
   "pygments_lexer": "ipython3",
   "version": "3.9.12"
  }
 },
 "nbformat": 4,
 "nbformat_minor": 5
}
