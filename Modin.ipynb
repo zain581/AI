{
  "nbformat": 4,
  "nbformat_minor": 0,
  "metadata": {
    "colab": {
      "name": "Untitled1.ipynb",
      "provenance": [],
      "toc_visible": true
    },
    "kernelspec": {
      "name": "python3",
      "display_name": "Python 3"
    },
    "language_info": {
      "name": "python"
    }
  },
  "cells": [
    {
      "cell_type": "code",
      "execution_count": 19,
      "metadata": {
        "colab": {
          "base_uri": "https://localhost:8080/"
        },
        "id": "CCt_M2Q9paE-",
        "outputId": "5fc6f595-2a0c-4854-a816-2a4841040a2e"
      },
      "outputs": [
        {
          "output_type": "stream",
          "name": "stdout",
          "text": [
            "Looking in indexes: https://pypi.org/simple, https://us-python.pkg.dev/colab-wheels/public/simple/\n",
            "Requirement already satisfied: modin in /usr/local/lib/python3.7/dist-packages (0.12.1)\n",
            "Requirement already satisfied: packaging in /usr/local/lib/python3.7/dist-packages (from modin) (21.3)\n",
            "Requirement already satisfied: fsspec in /usr/local/lib/python3.7/dist-packages (from modin) (2022.7.1)\n",
            "Requirement already satisfied: pandas==1.3.5 in /usr/local/lib/python3.7/dist-packages (from modin) (1.3.5)\n",
            "Requirement already satisfied: numpy>=1.16.5 in /usr/local/lib/python3.7/dist-packages (from modin) (1.21.6)\n",
            "Requirement already satisfied: python-dateutil>=2.7.3 in /usr/local/lib/python3.7/dist-packages (from pandas==1.3.5->modin) (2.8.2)\n",
            "Requirement already satisfied: pytz>=2017.3 in /usr/local/lib/python3.7/dist-packages (from pandas==1.3.5->modin) (2022.2.1)\n",
            "Requirement already satisfied: six>=1.5 in /usr/local/lib/python3.7/dist-packages (from python-dateutil>=2.7.3->pandas==1.3.5->modin) (1.15.0)\n",
            "Requirement already satisfied: pyparsing!=3.0.5,>=2.0.2 in /usr/local/lib/python3.7/dist-packages (from packaging->modin) (3.0.9)\n"
          ]
        }
      ],
      "source": [
        "!pip install modin"
      ]
    },
    {
      "cell_type": "markdown",
      "source": [
        "## **Modin uses Ray or Dask to provide an effortless way to speed up your pandas notebooks, scripts, and libraries. Unlike other distributed DataFrame libraries, Modin provides seamless integration and compatibility with existing pandas code. Even using the DataFrame constructor is identical.**"
      ],
      "metadata": {
        "id": "Jn4pfATpxYbM"
      }
    },
    {
      "cell_type": "markdown",
      "source": [
        "# *** Modin ***"
      ],
      "metadata": {
        "id": "4O8B8GDmxrPO"
      }
    },
    {
      "cell_type": "code",
      "source": [
        "import modin.pandas as pd\n",
        "import numpy as np\n",
        "import pandas as pandas "
      ],
      "metadata": {
        "id": "KelaPo71pfXH"
      },
      "execution_count": 6,
      "outputs": []
    },
    {
      "cell_type": "code",
      "source": [
        "%%time\n",
        "data_frame=pd.read_csv(\"Airbnb_Open_Data.csv\")"
      ],
      "metadata": {
        "id": "cARTX5-6p3Hj",
        "colab": {
          "base_uri": "https://localhost:8080/"
        },
        "outputId": "6d5f1d78-b58c-42a4-9570-99707e708db3"
      },
      "execution_count": 7,
      "outputs": [
        {
          "output_type": "stream",
          "name": "stdout",
          "text": [
            "CPU times: user 227 ms, sys: 29.4 ms, total: 256 ms\n",
            "Wall time: 1.5 s\n"
          ]
        }
      ]
    },
    {
      "cell_type": "code",
      "source": [
        "%%time \n",
        "data_frame_1=pandas.read_csv(\"Airbnb_Open_Data.csv\")"
      ],
      "metadata": {
        "colab": {
          "base_uri": "https://localhost:8080/"
        },
        "id": "RBMHVxg2uMDi",
        "outputId": "38d384f0-b7ba-4e5f-a75b-f172f882cb2a"
      },
      "execution_count": 8,
      "outputs": [
        {
          "output_type": "stream",
          "name": "stdout",
          "text": [
            "CPU times: user 826 ms, sys: 92.5 ms, total: 919 ms\n",
            "Wall time: 951 ms\n"
          ]
        },
        {
          "output_type": "stream",
          "name": "stderr",
          "text": [
            "DtypeWarning: Columns (25) have mixed types.Specify dtype option on import or set low_memory=False.\n"
          ]
        }
      ]
    },
    {
      "cell_type": "code",
      "source": [
        "data_frame.columns"
      ],
      "metadata": {
        "colab": {
          "base_uri": "https://localhost:8080/"
        },
        "id": "7K0ouFJPuTph",
        "outputId": "88912b4d-1557-4b9b-fc2a-e694d564531d"
      },
      "execution_count": 14,
      "outputs": [
        {
          "output_type": "execute_result",
          "data": {
            "text/plain": [
              "Index(['id', 'NAME', 'host id', 'host_identity_verified', 'host name',\n",
              "       'neighbourhood group', 'neighbourhood', 'lat', 'long', 'country',\n",
              "       'country code', 'instant_bookable', 'cancellation_policy', 'room type',\n",
              "       'Construction year', 'price', 'service fee', 'minimum nights',\n",
              "       'number of reviews', 'last review', 'reviews per month',\n",
              "       'review rate number', 'calculated host listings count',\n",
              "       'availability 365', 'house_rules', 'license'],\n",
              "      dtype='object')"
            ]
          },
          "metadata": {},
          "execution_count": 14
        }
      ]
    },
    {
      "cell_type": "code",
      "source": [
        "%%time\n",
        "results=data_frame.transpose\n"
      ],
      "metadata": {
        "colab": {
          "base_uri": "https://localhost:8080/"
        },
        "id": "U2m8U4rHuc_2",
        "outputId": "6c6f6efd-00bc-4f05-9954-c0286bb56617"
      },
      "execution_count": 17,
      "outputs": [
        {
          "output_type": "stream",
          "name": "stdout",
          "text": [
            "CPU times: user 63 µs, sys: 0 ns, total: 63 µs\n",
            "Wall time: 66.3 µs\n"
          ]
        }
      ]
    },
    {
      "cell_type": "code",
      "source": [
        "%%time\n",
        "results_1=data_frame_1.transpose"
      ],
      "metadata": {
        "id": "0xiREBdcu82k",
        "outputId": "5b64f651-f788-489a-e8b0-3579d4b2ae8d",
        "colab": {
          "base_uri": "https://localhost:8080/"
        }
      },
      "execution_count": 18,
      "outputs": [
        {
          "output_type": "stream",
          "name": "stdout",
          "text": [
            "CPU times: user 8 µs, sys: 1e+03 ns, total: 9 µs\n",
            "Wall time: 12.6 µs\n"
          ]
        }
      ]
    },
    {
      "cell_type": "code",
      "source": [],
      "metadata": {
        "id": "ptWPggMOvMz0"
      },
      "execution_count": null,
      "outputs": []
    }
  ]
}